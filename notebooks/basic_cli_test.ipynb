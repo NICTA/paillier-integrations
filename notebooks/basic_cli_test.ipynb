{
 "cells": [
  {
   "cell_type": "markdown",
   "metadata": {
    "collapsed": true,
    "deletable": true,
    "editable": true
   },
   "source": [
    "# Java CLI"
   ]
  },
  {
   "cell_type": "code",
   "execution_count": 18,
   "metadata": {
    "collapsed": false,
    "deletable": true,
    "editable": true
   },
   "outputs": [
    {
     "name": "stdout",
     "output_type": "stream",
     "text": [
      "Check we can access both command line tools:\n",
      "pheutil, version 1.0-alpha\n",
      "\n",
      "usage: javallier COMMAND [OPTIONS]\n",
      "Javallier CLI - Data61 - 2016\n",
      "Commands:\n",
      "    add: Add ENCRYPTED to PLAINTEXT\n",
      "    genpkey: Create a new paillier keypair\n",
      "    extract: Extract the public key from a PRIVATE key\n",
      "    encrypt: Encrypt a value with the given public key\n",
      "    decrypt: Decrypt CIPHERTEXT with PRIVATEKEY\n",
      "    multiply: Multiply ENCRYPTED with PLAINTEXT\n",
      "    addenc: Add ENCRYPTED1 to ENCRYPTED2\n",
      "Try javallier COMMAND --help for command usage.\n",
      "\n",
      "Options:\n",
      "\n",
      " -h,--help      Show this message and exit.\n",
      " -v,--verbose   Enable logging\n",
      "\n",
      "Please report issues to https://github.com/NICTA/javallier/issues\n"
     ]
    }
   ],
   "source": [
    "JAVABIN = \"java -jar ../javallier/target/scala-2.10/javallier.jar\"\n",
    "PYBIN = \"~/py35/bin/pheutil\"\n",
    "\n",
    "print(\"Check we can access both command line tools:\")\n",
    "!{PYBIN} --version\n",
    "!{JAVABIN}"
   ]
  },
  {
   "cell_type": "code",
   "execution_count": 3,
   "metadata": {
    "collapsed": true,
    "deletable": true,
    "editable": true
   },
   "outputs": [],
   "source": [
    "test_numbers = [0, 1, 1000, 5000, 1e12]"
   ]
  },
  {
   "cell_type": "markdown",
   "metadata": {
    "deletable": true,
    "editable": true
   },
   "source": [
    "## Test 1 - Encryt with key generated from Python"
   ]
  },
  {
   "cell_type": "code",
   "execution_count": 4,
   "metadata": {
    "collapsed": false,
    "deletable": true,
    "editable": true
   },
   "outputs": [
    {
     "name": "stdout",
     "output_type": "stream",
     "text": [
      "\u001b[31mGenerating a paillier keypair with keysize of 1024\u001b[0m\n",
      "\u001b[31mKeys generated\u001b[0m\n",
      "\u001b[31mPrivate key written to py_1024_priv.json\u001b[0m\n",
      "\u001b[31mLoading paillier keypair\u001b[0m\n",
      "\u001b[31mPublic key written to py_1024_public.json\u001b[0m\n"
     ]
    }
   ],
   "source": [
    "# Generate the key using Python\n",
    "!{PYBIN} genpkey --keysize 1024 py_1024_priv.json\n",
    "!{PYBIN} extract py_1024_priv.json py_1024_public.json"
   ]
  },
  {
   "cell_type": "code",
   "execution_count": 8,
   "metadata": {
    "collapsed": false,
    "deletable": true,
    "editable": true
   },
   "outputs": [
    {
     "name": "stdout",
     "output_type": "stream",
     "text": [
      "\n",
      "Feb 02, 2017 2:07:35 PM com.n1analytics.paillier.cli.JavallierCLI parse\n",
      "WARNING: Failed to run command. Reason: Input value cannot be encoded.\n",
      "com.n1analytics.paillier.EncodeException: Input value cannot be encoded.\n",
      "\tat com.n1analytics.paillier.StandardEncodingScheme.innerEncode(StandardEncodingScheme.java:293)\n",
      "\tat com.n1analytics.paillier.StandardEncodingScheme.encode(StandardEncodingScheme.java:139)\n",
      "\tat com.n1analytics.paillier.PaillierContext.encode(PaillierContext.java:295)\n",
      "\tat com.n1analytics.paillier.PaillierContext.encrypt(PaillierContext.java:491)\n",
      "\tat com.n1analytics.paillier.cli.JavallierCLI$EncryptCommand.run(JavallierCLI.java:360)\n",
      "\tat com.n1analytics.paillier.cli.JavallierCLI.parse(JavallierCLI.java:112)\n",
      "\tat com.n1analytics.paillier.cli.Main.main(Main.java:9)\n"
     ]
    }
   ],
   "source": [
    "# Encrypt using both Python and Java\n",
    "for i, num in enumerate(test_numbers[:1]):\n",
    "    #!{PYBIN} encrypt --output py_{i}.enc py_1024_public.json {num}\n",
    "    !{JAVABIN} encrypt --output java_{i}.enc py_1024_public.json {num}"
   ]
  },
  {
   "cell_type": "code",
   "execution_count": 14,
   "metadata": {
    "collapsed": false
   },
   "outputs": [
    {
     "name": "stdout",
     "output_type": "stream",
     "text": [
      "Python public key encoding:\n",
      "slI-NT0mzQfAegnIgDjV4Ckt5EIjDFWF41jY3B3dLETIfN-ZMyT4sWZHNXN0XJmlQQIcaoy_UoSZvwBVTYswePLsvCLf-vDwB3HfDDe0WzySYGxxA1BIKUbUYgnNTVfXUYV11TzROFs96uBpkTgZvycYKaALancet5AmzJPObg0\n",
      "\n",
      "Java public key encoding:\n",
      "AIkw19cGIHcFFH/bg2xnN5YvBkfwpPDfDhWg6LEZxkWYeaZaKsC/n0Z8+AEI2gy4fIMq6M3ZOO6kge02DRxUIHvavaqNB4bvV3A3svRpADwKV98lfV/OodLNysAkGICe9kMB77xhdwBKZWCr1VxhxBeHsGleeg4MpXAL9J8gKuUP\n"
     ]
    }
   ],
   "source": [
    "import json\n",
    "with open('py_1024_public.json') as f:\n",
    "    print(\"Python public key encoding:\")\n",
    "    print(json.load(f)['n'])\n",
    "    \n",
    "print(\"\\nJava public key encoding:\")\n",
    "with open('java_1024_public.json') as f:\n",
    "    print(json.load(f)['n'])"
   ]
  },
  {
   "cell_type": "markdown",
   "metadata": {},
   "source": [
    "As we can see the Python encoding conforms to RFC7517, but the Java encoding does not."
   ]
  },
  {
   "cell_type": "code",
   "execution_count": 28,
   "metadata": {
    "collapsed": true,
    "deletable": true,
    "editable": true
   },
   "outputs": [
    {
     "name": "stdout",
     "output_type": "stream",
     "text": [
      "\u001b[31mLoading private key\u001b[0m\n",
      "\u001b[31mDecrypting ciphertext\u001b[0m\n",
      "0.0\n",
      "0.0\n",
      "\u001b[31mLoading private key\u001b[0m\n",
      "\u001b[31mDecrypting ciphertext\u001b[0m\n",
      "1.0\n",
      "1.0\n",
      "\u001b[31mLoading private key\u001b[0m\n",
      "\u001b[31mDecrypting ciphertext\u001b[0m\n",
      "1000.0\n",
      "1000.0\n",
      "\u001b[31mLoading private key\u001b[0m\n",
      "\u001b[31mDecrypting ciphertext\u001b[0m\n",
      "5000.0\n",
      "5000.0\n",
      "\u001b[31mLoading private key\u001b[0m\n",
      "\u001b[31mDecrypting ciphertext\u001b[0m\n",
      "1000000000000.0\n",
      "1000000000000.0\n"
     ]
    }
   ],
   "source": [
    "for i, num in enumerate(test_numbers):\n",
    "    !{BIN} decrypt --output py_{i}.plaintext py_1024_priv.json py_{i}.enc \n",
    "    \n",
    "    out = open(\"py_{}.plaintext\".format(i)).read().strip()\n",
    "    print(out)\n",
    "    print(float(num))"
   ]
  },
  {
   "cell_type": "code",
   "execution_count": 29,
   "metadata": {
    "collapsed": true,
    "deletable": true,
    "editable": true
   },
   "outputs": [
    {
     "name": "stdout",
     "output_type": "stream",
     "text": [
      "\n",
      "Running the decrypt command\n",
      "[decrypt, py_1024_priv.json, py_0.enc]\n",
      "Feb 02, 2017 11:35:29 AM com.n1analytics.paillier.cli.JavallierCLI parse\n",
      "WARNING: Failed to run command. Reason: totient must be non-negative\n",
      "java.lang.IllegalArgumentException: totient must be non-negative\n",
      "\tat com.n1analytics.paillier.PaillierPrivateKey.<init>(PaillierPrivateKey.java:156)\n",
      "\tat com.n1analytics.paillier.cli.SerialisationUtil.unserialise_private(SerialisationUtil.java:34)\n",
      "\tat com.n1analytics.paillier.cli.JavallierCLI$DecryptCommand.run(JavallierCLI.java:436)\n",
      "\tat com.n1analytics.paillier.cli.JavallierCLI.parse(JavallierCLI.java:112)\n",
      "\tat com.n1analytics.paillier.cli.Main.main(Main.java:9)\n",
      "\n",
      "0.0\n",
      "\n",
      "Running the decrypt command\n",
      "[decrypt, py_1024_priv.json, py_1.enc]\n",
      "Feb 02, 2017 11:35:29 AM com.n1analytics.paillier.cli.JavallierCLI parse\n",
      "WARNING: Failed to run command. Reason: totient must be non-negative\n",
      "java.lang.IllegalArgumentException: totient must be non-negative\n",
      "\tat com.n1analytics.paillier.PaillierPrivateKey.<init>(PaillierPrivateKey.java:156)\n",
      "\tat com.n1analytics.paillier.cli.SerialisationUtil.unserialise_private(SerialisationUtil.java:34)\n",
      "\tat com.n1analytics.paillier.cli.JavallierCLI$DecryptCommand.run(JavallierCLI.java:436)\n",
      "\tat com.n1analytics.paillier.cli.JavallierCLI.parse(JavallierCLI.java:112)\n",
      "\tat com.n1analytics.paillier.cli.Main.main(Main.java:9)\n",
      "\n",
      "1.0\n",
      "\n",
      "Running the decrypt command\n",
      "[decrypt, py_1024_priv.json, py_2.enc]\n",
      "Feb 02, 2017 11:35:29 AM com.n1analytics.paillier.cli.JavallierCLI parse\n",
      "WARNING: Failed to run command. Reason: totient must be non-negative\n",
      "java.lang.IllegalArgumentException: totient must be non-negative\n",
      "\tat com.n1analytics.paillier.PaillierPrivateKey.<init>(PaillierPrivateKey.java:156)\n",
      "\tat com.n1analytics.paillier.cli.SerialisationUtil.unserialise_private(SerialisationUtil.java:34)\n",
      "\tat com.n1analytics.paillier.cli.JavallierCLI$DecryptCommand.run(JavallierCLI.java:436)\n",
      "\tat com.n1analytics.paillier.cli.JavallierCLI.parse(JavallierCLI.java:112)\n",
      "\tat com.n1analytics.paillier.cli.Main.main(Main.java:9)\n",
      "\n",
      "1000.0\n",
      "\n",
      "Running the decrypt command\n",
      "[decrypt, py_1024_priv.json, py_3.enc]\n",
      "Feb 02, 2017 11:35:30 AM com.n1analytics.paillier.cli.JavallierCLI parse\n",
      "WARNING: Failed to run command. Reason: totient must be non-negative\n",
      "java.lang.IllegalArgumentException: totient must be non-negative\n",
      "\tat com.n1analytics.paillier.PaillierPrivateKey.<init>(PaillierPrivateKey.java:156)\n",
      "\tat com.n1analytics.paillier.cli.SerialisationUtil.unserialise_private(SerialisationUtil.java:34)\n",
      "\tat com.n1analytics.paillier.cli.JavallierCLI$DecryptCommand.run(JavallierCLI.java:436)\n",
      "\tat com.n1analytics.paillier.cli.JavallierCLI.parse(JavallierCLI.java:112)\n",
      "\tat com.n1analytics.paillier.cli.Main.main(Main.java:9)\n",
      "\n",
      "5000.0\n",
      "\n",
      "Running the decrypt command\n",
      "[decrypt, py_1024_priv.json, py_4.enc]\n",
      "Feb 02, 2017 11:35:30 AM com.n1analytics.paillier.cli.JavallierCLI parse\n",
      "WARNING: Failed to run command. Reason: totient must be non-negative\n",
      "java.lang.IllegalArgumentException: totient must be non-negative\n",
      "\tat com.n1analytics.paillier.PaillierPrivateKey.<init>(PaillierPrivateKey.java:156)\n",
      "\tat com.n1analytics.paillier.cli.SerialisationUtil.unserialise_private(SerialisationUtil.java:34)\n",
      "\tat com.n1analytics.paillier.cli.JavallierCLI$DecryptCommand.run(JavallierCLI.java:436)\n",
      "\tat com.n1analytics.paillier.cli.JavallierCLI.parse(JavallierCLI.java:112)\n",
      "\tat com.n1analytics.paillier.cli.Main.main(Main.java:9)\n",
      "\n",
      "1000000000000.0\n"
     ]
    }
   ],
   "source": [
    "\n",
    "\n",
    "\n",
    "for i, num in enumerate(test_numbers):\n",
    "    !{BIN} decrypt --output py_{i}.plaintext py_1024_priv.json py_{i}.enc \n",
    "    \n",
    "    out = open(\"py_{}.plaintext\".format(i)).read().strip()\n",
    "    print(out)\n",
    "    print(float(num))"
   ]
  },
  {
   "cell_type": "code",
   "execution_count": null,
   "metadata": {
    "collapsed": true,
    "deletable": true,
    "editable": true
   },
   "outputs": [],
   "source": []
  }
 ],
 "metadata": {
  "kernelspec": {
   "display_name": "Python 3",
   "language": "python",
   "name": "python3"
  },
  "language_info": {
   "codemirror_mode": {
    "name": "ipython",
    "version": 3
   },
   "file_extension": ".py",
   "mimetype": "text/x-python",
   "name": "python",
   "nbconvert_exporter": "python",
   "pygments_lexer": "ipython3",
   "version": "3.5.2"
  }
 },
 "nbformat": 4,
 "nbformat_minor": 0
}
